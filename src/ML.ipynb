{
 "cells": [
  {
   "cell_type": "code",
   "execution_count": 3,
   "metadata": {},
   "outputs": [],
   "source": [
    "import pandas as pd\n",
    "from sklearn.feature_extraction.text import TfidfVectorizer\n",
    "from sklearn.model_selection import train_test_split\n",
    "from sklearn.linear_model import LogisticRegression\n",
    "from sklearn.metrics import classification_report, accuracy_score\n",
    "# from dataprep.dataprocessing import prepare_datasets\n",
    "\n",
    "import sys\n",
    "sys.path.append(\"../dataprep\") \n",
    "from dataprocessing import prepare_datasets"
   ]
  },
  {
   "cell_type": "code",
   "execution_count": 4,
   "metadata": {},
   "outputs": [],
   "source": [
    "train_df , test_df , val_df = prepare_datasets()\n",
    "df= pd.concat([train_df , val_df])"
   ]
  },
  {
   "cell_type": "code",
   "execution_count": 5,
   "metadata": {},
   "outputs": [],
   "source": [
    "vectorizer =TfidfVectorizer(max_features= 5000)\n",
    "X = vectorizer.fit_transform(df['text']).toarray()\n",
    "y = df['label']"
   ]
  },
  {
   "cell_type": "code",
   "execution_count": 6,
   "metadata": {},
   "outputs": [],
   "source": [
    "X_train, X_val, y_train, y_val = train_test_split(X, y, test_size=0.2, random_state=42)"
   ]
  },
  {
   "cell_type": "code",
   "execution_count": 8,
   "metadata": {},
   "outputs": [
    {
     "name": "stdout",
     "output_type": "stream",
     "text": [
      "Accuracy: 0.8705555555555555\n",
      "              precision    recall  f1-score   support\n",
      "\n",
      "       anger       0.92      0.81      0.86       462\n",
      "        fear       0.86      0.76      0.80       415\n",
      "         joy       0.83      0.96      0.89      1176\n",
      "        love       0.88      0.65      0.75       318\n",
      "     sadness       0.90      0.95      0.93      1092\n",
      "    surprise       0.85      0.53      0.65       137\n",
      "\n",
      "    accuracy                           0.87      3600\n",
      "   macro avg       0.87      0.78      0.81      3600\n",
      "weighted avg       0.87      0.87      0.87      3600\n",
      "\n",
      "Test Accuracy: 0.8685\n",
      "              precision    recall  f1-score   support\n",
      "\n",
      "       anger       0.88      0.84      0.86       275\n",
      "        fear       0.88      0.80      0.84       224\n",
      "         joy       0.84      0.96      0.89       695\n",
      "        love       0.82      0.58      0.68       159\n",
      "     sadness       0.91      0.92      0.92       581\n",
      "    surprise       0.94      0.47      0.63        66\n",
      "\n",
      "    accuracy                           0.87      2000\n",
      "   macro avg       0.88      0.76      0.80      2000\n",
      "weighted avg       0.87      0.87      0.86      2000\n",
      "\n"
     ]
    }
   ],
   "source": [
    "model =LogisticRegression(max_iter= 1000)\n",
    "model.fit(X_train, y_train)\n",
    "# Đánh giá mô hình trên tập kiểm tra\n",
    "y_pred = model.predict(X_val)\n",
    "print(f\"Accuracy: {accuracy_score(y_val, y_pred)}\")\n",
    "print(classification_report(y_val, y_pred))\n",
    "\n",
    "# Đánh giá mô hình trên tập test\n",
    "X_test = vectorizer.transform(test_df['text']).toarray()\n",
    "y_test = test_df['label']\n",
    "y_test_pred = model.predict(X_test)\n",
    "print(f\"Test Accuracy: {accuracy_score(y_test, y_test_pred)}\")\n",
    "print(classification_report(y_test, y_test_pred))\n"
   ]
  },
  {
   "cell_type": "code",
   "execution_count": null,
   "metadata": {},
   "outputs": [],
   "source": []
  },
  {
   "cell_type": "code",
   "execution_count": null,
   "metadata": {},
   "outputs": [],
   "source": []
  }
 ],
 "metadata": {
  "kernelspec": {
   "display_name": "Python 3",
   "language": "python",
   "name": "python3"
  },
  "language_info": {
   "codemirror_mode": {
    "name": "ipython",
    "version": 3
   },
   "file_extension": ".py",
   "mimetype": "text/x-python",
   "name": "python",
   "nbconvert_exporter": "python",
   "pygments_lexer": "ipython3",
   "version": "3.10.5"
  }
 },
 "nbformat": 4,
 "nbformat_minor": 2
}
