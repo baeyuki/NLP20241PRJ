{
 "cells": [
  {
   "cell_type": "markdown",
   "metadata": {},
   "source": [
    "I. import lib"
   ]
  },
  {
   "cell_type": "code",
   "execution_count": 1,
   "metadata": {},
   "outputs": [],
   "source": [
    "\n",
    "import warnings\n",
    "warnings.filterwarnings('ignore')\n",
    "import pandas as pd\n",
    "from delete_stopwords import delete_stopwords\n",
    "from dataprep import load_datasets"
   ]
  },
  {
   "cell_type": "markdown",
   "metadata": {},
   "source": [
    "II. load data"
   ]
  },
  {
   "cell_type": "code",
   "execution_count": 2,
   "metadata": {},
   "outputs": [
    {
     "name": "stdout",
     "output_type": "stream",
     "text": [
      "                                                text  label\n",
      "0                      tôi không cảm thấy bị sỉ nhục      0\n",
      "1  tôi có thể đi từ cảm giác vô vọng đến vô cùng ...      0\n",
      "2  tôi đang tranh thủ một phút để đăng bài, tôi c...      3\n",
      "3  tôi luôn cảm thấy hoài niệm về lò sưởi tôi sẽ ...      2\n",
      "4                         tôi đang cảm thấy cáu kỉnh      3\n",
      "                                                text  label\n",
      "0  tôi đang cảm thấy khá chán nản nên hiện tại tô...      0\n",
      "1  tôi đang cập nhật blog của mình vì tôi cảm thấ...      0\n",
      "2  tôi không bao giờ để cô ấy tách khỏi tôi bởi v...      0\n",
      "3  tôi rời đi với bó hoa tulip đỏ và vàng dưới cá...      1\n",
      "4        tôi đã cảm thấy hơi vô ích khi làm điều này      0\n"
     ]
    }
   ],
   "source": [
    "train_df,test_df,val_df = load_datasets()\n",
    "df=pd.concat([train_df,val_df])\n",
    "label_mapping = {'sadness':0, 'joy':1, 'love':2, 'anger':3, 'fear':4,'surprise':5}\n",
    "# Rename the 'Label' column using the mapping dictionary\n",
    "df['label'] = df['label'].map(label_mapping)\n",
    "test_df['label'] = test_df['label'].map(label_mapping)\n",
    "print(df.head())\n",
    "print(test_df.head())\n",
    "#save data for train PhoBERT\n",
    "df.to_csv('training.csv')\n",
    "test_df.to_csv('testing.csv')"
   ]
  },
  {
   "cell_type": "markdown",
   "metadata": {},
   "source": [
    "III. Preprocessing"
   ]
  },
  {
   "cell_type": "markdown",
   "metadata": {},
   "source": [
    "- delete special charater, ..."
   ]
  },
  {
   "cell_type": "code",
   "execution_count": 3,
   "metadata": {},
   "outputs": [
    {
     "name": "stdout",
     "output_type": "stream",
     "text": [
      "                                                text  label\n",
      "0                      tôi không cảm thấy bị sỉ nhục      0\n",
      "1  tôi có thể đi từ cảm giác vô vọng đến vô cùng ...      0\n",
      "2  tôi đang tranh thủ một phút để đăng bài tôi cả...      3\n",
      "3  tôi luôn cảm thấy hoài niệm về lò sưởi tôi sẽ ...      2\n",
      "4                         tôi đang cảm thấy cáu kỉnh      3\n",
      "                                                text  label\n",
      "0  tôi đang cảm thấy khá chán nản nên hiện tại tô...      0\n",
      "1  tôi đang cập nhật blog của mình vì tôi cảm thấ...      0\n",
      "2  tôi không bao giờ để cô ấy tách khỏi tôi bởi v...      0\n",
      "3  tôi rời đi với bó hoa tulip đỏ và vàng dưới cá...      1\n",
      "4        tôi đã cảm thấy hơi vô ích khi làm điều này      0\n"
     ]
    }
   ],
   "source": [
    "import re\n",
    "df['text'] = df['text'].apply(lambda x: re.sub(r'[^\\w\\s]', '', x))\n",
    "df['text'] = df['text'].str.replace(r'\\d+', '', regex=True)\n",
    "df['text'] = df['text'].str.replace(r'\\s+', ' ', regex=True)\n",
    "df['text'] = df['text'].str.replace(r'[^\\w\\s]', '', regex=True)\n",
    "df['text'] = df['text'].str.replace(r'http\\S+', '', regex=True)\n",
    "test_df['text'] = test_df['text'].apply(lambda x: re.sub(r'[^\\w\\s]', '', x))\n",
    "test_df['text'] = test_df['text'].str.replace(r'\\d+', '', regex=True)\n",
    "test_df['text'] = test_df['text'].str.replace(r'\\s+', ' ', regex=True)\n",
    "test_df['text'] = test_df['text'].str.replace(r'[^\\w\\s]', '', regex=True)\n",
    "test_df['text'] = test_df['text'].str.replace(r'http\\S+', '', regex=True)\n",
    "print(df.head())\n",
    "print(test_df.head())"
   ]
  },
  {
   "cell_type": "markdown",
   "metadata": {},
   "source": [
    "- delete stopword"
   ]
  },
  {
   "cell_type": "code",
   "execution_count": 4,
   "metadata": {},
   "outputs": [
    {
     "name": "stdout",
     "output_type": "stream",
     "text": [
      "                                                text  label\n",
      "0                                            sỉ nhục      0\n",
      "1  thể đi từ giác vô vọng đến vô cùng hy vọng chỉ...      0\n",
      "2   đang tranh thủ một phút để đăng bài thật sai lầm      3\n",
      "3  luôn hoài niệm về lò sưởi sẽ biết rằng nó vẫn ...      2\n",
      "4                                      đang cáu kỉnh      3\n",
      "                                                text  label\n",
      "0  đang khá chán nản nên hiện tại nhiều tham vọng...      0\n",
      "1                     đang cập nhật blog thật tồi tệ      0\n",
      "2  bao giờ để cô tách khỏi bởi bao giờ muốn cô th...      0\n",
      "3  rời đi với bó hoa tulip đỏ vàng cánh tay lạc q...      1\n",
      "4                     đã hơi vô ích khi làm điều này      0\n"
     ]
    }
   ],
   "source": [
    "stopwords_file = 'C:/Users/thanh/Documents/NLP20241PRJ-1/src/vietnamese_stopwords.txt'\n",
    "df = delete_stopwords(df, stopwords_file)  \n",
    "test_df =delete_stopwords(test_df,stopwords_file)\n",
    "print(df.head())\n",
    "print(test_df.head())"
   ]
  },
  {
   "cell_type": "code",
   "execution_count": 5,
   "metadata": {},
   "outputs": [],
   "source": [
    "# df.to_csv('training.csv')\n",
    "# test_df.to_csv('testing.csv')"
   ]
  },
  {
   "cell_type": "markdown",
   "metadata": {},
   "source": [
    "IV. Model\n",
    "1. Logistic regression"
   ]
  },
  {
   "cell_type": "code",
   "execution_count": 6,
   "metadata": {},
   "outputs": [
    {
     "name": "stdout",
     "output_type": "stream",
     "text": [
      "[Pipeline] ............. (step 1 of 2) Processing tfidf, total=   0.3s\n",
      "[Pipeline] .......... (step 2 of 2) Processing logistic, total=   1.3s\n",
      "Accuracy:  0.722\n",
      "              precision    recall  f1-score   support\n",
      "\n",
      "           0       0.74      0.76      0.75       581\n",
      "           1       0.73      0.87      0.79       695\n",
      "           2       0.62      0.38      0.47       159\n",
      "           3       0.73      0.63      0.67       275\n",
      "           4       0.71      0.61      0.65       224\n",
      "           5       0.70      0.47      0.56        66\n",
      "\n",
      "    accuracy                           0.72      2000\n",
      "   macro avg       0.70      0.62      0.65      2000\n",
      "weighted avg       0.72      0.72      0.71      2000\n",
      "\n"
     ]
    },
    {
     "data": {
      "image/png": "[encoded data removed]",
      "text/plain": [
       "<Figure size 800x600 with 2 Axes>"
      ]
     },
     "metadata": {},
     "output_type": "display_data"
    }
   ],
   "source": [
    "from sklearn.feature_extraction.text import TfidfVectorizer\n",
    "from sklearn.linear_model import LogisticRegression\n",
    "from sklearn.pipeline import Pipeline\n",
    "from sklearn.metrics import accuracy_score\n",
    "from sklearn.metrics import classification_report\n",
    "from sklearn.metrics import confusion_matrix\n",
    "import matplotlib.pyplot as plt\n",
    "import seaborn as sns\n",
    "\n",
    "train_data = df\n",
    "test_data = test_df\n",
    "\n",
    "logistic_r = Pipeline([\n",
    "    ('tfidf', TfidfVectorizer()),\n",
    "    ('logistic', LogisticRegression(max_iter=1000))\n",
    "], verbose=True)\n",
    "logistic_r.fit(train_data['text'], train_data['label'])\n",
    "predictions = logistic_r.predict(test_data['text'])\n",
    "\n",
    "accuracy = accuracy_score(test_data['label'], predictions)\n",
    "print(\"Accuracy: \", accuracy)\n",
    "print(classification_report(test_data['label'], predictions))\n",
    "cm = confusion_matrix(test_data['label'], predictions)\n",
    "plt.figure(figsize=(8, 6))\n",
    "sns.heatmap(cm, annot=True, fmt='d', cmap='Blues', xticklabels=logistic_r.classes_, yticklabels=logistic_r.classes_)\n",
    "plt.title('Confusion Matrix')\n",
    "plt.xlabel('Predicted')\n",
    "plt.ylabel('True')\n",
    "plt.show()\n"
   ]
  },
  {
   "cell_type": "markdown",
   "metadata": {},
   "source": [
    "2. BiLSTM"
   ]
  },
  {
   "cell_type": "markdown",
   "metadata": {},
   "source": [
    "- create vocab\n"
   ]
  },
  {
   "cell_type": "code",
   "execution_count": 7,
   "metadata": {},
   "outputs": [
    {
     "name": "stdout",
     "output_type": "stream",
     "text": [
      "No module named 'fasttext'\n"
     ]
    }
   ],
   "source": [
    "from itertools import chain\n",
    "from collections import Counter\n",
    "import torch\n",
    "from tqdm import tqdm\n",
    "from underthesea import word_tokenize\n",
    "\n",
    "class Vocabulary:\n",
    "    def __init__(self):\n",
    "        self.word2id = dict()\n",
    "        self.word2id['<pad>'] = 0\n",
    "        self.word2id['<unk>'] = 1\n",
    "        self.unk_id = self.word2id['<unk>']\n",
    "        self.id2word = {v: k for k, v in self.word2id.items()}\n",
    "\n",
    "    def __getitem__(self, word):\n",
    "        return self.word2id.get(word, self.unk_id)\n",
    "\n",
    "    def __contains__(self, word):\n",
    "        return word in self.word2id\n",
    "\n",
    "    def __len__(self):\n",
    "        return len(self.word2id)\n",
    "\n",
    "    def id2word(self, word_index):\n",
    "        return self.id2word[word_index]\n",
    "\n",
    "    def add(self, word):\n",
    "        if word not in self:\n",
    "            word_index = self.word2id[word] = len(self.word2id)\n",
    "            self.id2word[word_index] = word\n",
    "            return word_index\n",
    "        else:\n",
    "            return self[word]\n",
    "\n",
    "    @staticmethod\n",
    "    def tokenize_corpus(corpus):\n",
    "        \"\"\"Split the documents of the corpus into words\n",
    "        @param corpus (list(str)): list of documents\n",
    "        @return tokenized_corpus (list(list(str))): list of words\n",
    "        \"\"\"\n",
    "        print(\"Tokenize the corpus...\")\n",
    "        tokenized_corpus = []\n",
    "        for document in tqdm(corpus):\n",
    "            # Ensure document is a string and normalized\n",
    "            document = str(document)\n",
    "            tokenized_document = [word.replace(\" \", \"_\") for word in word_tokenize(document)]\n",
    "            tokenized_corpus.append(tokenized_document)\n",
    "\n",
    "        return tokenized_corpus\n",
    "\n",
    "    def corpus_to_tensor(self, corpus, is_tokenized=False):\n",
    "        if is_tokenized:\n",
    "            tokenized_corpus = corpus\n",
    "        else:\n",
    "            tokenized_corpus = self.tokenize_corpus(corpus)\n",
    "        indices_corpus = []\n",
    "        for document in tqdm(tokenized_corpus):\n",
    "            indices_document = torch.tensor([self[word] for word in document], dtype=torch.int64)\n",
    "            indices_corpus.append(indices_document)\n",
    "        return indices_corpus\n",
    "\n",
    "    def tensor_to_corpus(self, tensor):\n",
    "        corpus = []\n",
    "        for indices in tqdm(tensor):\n",
    "            document = [self.id2word[index.item()] for index in indices]\n",
    "            corpus.append(document)\n",
    "        return corpus\n",
    "\n",
    "    def add_words_from_corpus(self, corpus, is_tokenized=False):\n",
    "        print(\"Adding words from the corpus...\")\n",
    "        if is_tokenized:\n",
    "            tokenized_corpus = corpus\n",
    "        else:\n",
    "            tokenized_corpus = self.tokenize_corpus(corpus)\n",
    "        word_freq = Counter(chain(*tokenized_corpus))\n",
    "        non_singletons = [w for w in word_freq if word_freq[w] > 1]\n",
    "        print(f\"Number of words in the corpus: {len(word_freq)}\")\n",
    "        print(f\"Number of words with frequency > 1: {len(non_singletons)}\")\n",
    "        for word in non_singletons:\n",
    "            self.add(word)\n"
   ]
  },
  {
   "cell_type": "markdown",
   "metadata": {},
   "source": [
    "- create MessageDataset"
   ]
  },
  {
   "cell_type": "code",
   "execution_count": 8,
   "metadata": {},
   "outputs": [],
   "source": [
    "\n",
    "import torch\n",
    "from torch.utils.data import Dataset\n",
    "\n",
    "class MessageDataset(Dataset):\n",
    "    def __init__(self, vocab, df, tokenized_fpath=None):\n",
    "        self.vocab = vocab\n",
    "        self.pad_idx = vocab[\"<pad>\"]\n",
    "        self.text_list = list(df['text'])\n",
    "        self.label_list = list(df['label'])\n",
    "        \n",
    "        # Build label mapping\n",
    "        label_type = list(set(self.label_list))\n",
    "        label_type.sort()\n",
    "        self.label2id = {label: i for i, label in enumerate(label_type)}\n",
    "\n",
    "        if tokenized_fpath:\n",
    "            self.tokenized_text = torch.load(tokenized_fpath)\n",
    "        else:\n",
    "            self.tokenized_text = self.vocab.tokenize_corpus(self.text_list)\n",
    "\n",
    "        self.tensor_data = self.vocab.corpus_to_tensor(self.tokenized_text, is_tokenized=True)\n",
    "        self.tensor_label = torch.tensor([self.label2id[label] for label in self.label_list], dtype=torch.long)\n",
    "\n",
    "    def __len__(self):\n",
    "        return len(self.tensor_data)\n",
    "\n",
    "    def __getitem__(self, idx):\n",
    "        return self.tensor_data[idx], self.tensor_label[idx]\n",
    "\n",
    "    def collate_fn(self, examples):\n",
    "        examples = sorted(examples, key=lambda e: len(e[0]), reverse=True)\n",
    "\n",
    "        texts = [e[0] for e in examples]\n",
    "        texts = torch.nn.utils.rnn.pad_sequence(texts, batch_first=False, padding_value=self.pad_idx)\n",
    "        text_lengths = torch.tensor([len(e[0]) for e in examples])\n",
    "        labels = torch.tensor([e[1] for e in examples])\n",
    "\n",
    "        return {\"text\": (texts, text_lengths), \"label\": labels}\n"
   ]
  },
  {
   "cell_type": "markdown",
   "metadata": {},
   "source": [
    "- Load vocab"
   ]
  },
  {
   "cell_type": "code",
   "execution_count": 9,
   "metadata": {},
   "outputs": [
    {
     "name": "stdout",
     "output_type": "stream",
     "text": [
      "Adding words from the corpus...\n",
      "Tokenize the corpus...\n"
     ]
    },
    {
     "name": "stderr",
     "output_type": "stream",
     "text": [
      "100%|██████████| 20000/20000 [00:16<00:00, 1214.49it/s]\n"
     ]
    },
    {
     "name": "stdout",
     "output_type": "stream",
     "text": [
      "Number of words in the corpus: 13239\n",
      "Number of words with frequency > 1: 6128\n",
      "Tokenize the corpus...\n"
     ]
    },
    {
     "name": "stderr",
     "output_type": "stream",
     "text": [
      "100%|██████████| 18000/18000 [00:15<00:00, 1145.62it/s]\n",
      "100%|██████████| 18000/18000 [00:00<00:00, 120219.86it/s]\n"
     ]
    },
    {
     "name": "stdout",
     "output_type": "stream",
     "text": [
      "Tokenize the corpus...\n"
     ]
    },
    {
     "name": "stderr",
     "output_type": "stream",
     "text": [
      "100%|██████████| 2000/2000 [00:01<00:00, 1223.84it/s]\n",
      "100%|██████████| 2000/2000 [00:00<00:00, 181567.67it/s]"
     ]
    },
    {
     "name": "stdout",
     "output_type": "stream",
     "text": [
      "Texts shape: torch.Size([37, 32]), Labels shape: torch.Size([32])\n"
     ]
    },
    {
     "name": "stderr",
     "output_type": "stream",
     "text": [
      "\n"
     ]
    }
   ],
   "source": [
    "vocab = Vocabulary()\n",
    "vocab.add_words_from_corpus(list(df['text']) + list(test_df['text']))\n",
    "train_dataset = MessageDataset(vocab, df)\n",
    "test_dataset = MessageDataset(vocab, test_df)\n",
    "from torch.utils.data import DataLoader\n",
    "train_loader = DataLoader(train_dataset, batch_size=32, collate_fn=train_dataset.collate_fn, shuffle=True)\n",
    "test_loader = DataLoader(test_dataset, batch_size=32, collate_fn=test_dataset.collate_fn, shuffle=False)\n",
    "for batch in train_loader:\n",
    "    text, label= batch['text'], batch['label']\n",
    "    print(f'Texts shape: {text[0].shape}, Labels shape: {label.shape}')\n",
    "    break "
   ]
  },
  {
   "cell_type": "markdown",
   "metadata": {},
   "source": [
    "- Training model"
   ]
  },
  {
   "cell_type": "code",
   "execution_count": 10,
   "metadata": {},
   "outputs": [
    {
     "ename": "KeyboardInterrupt",
     "evalue": "",
     "output_type": "error",
     "traceback": [
      "\u001b[1;31m---------------------------------------------------------------------------\u001b[0m",
      "\u001b[1;31mKeyboardInterrupt\u001b[0m                         Traceback (most recent call last)",
      "Cell \u001b[1;32mIn[10], line 111\u001b[0m\n\u001b[0;32m    108\u001b[0m val_accuracies \u001b[38;5;241m=\u001b[39m []\n\u001b[0;32m    110\u001b[0m \u001b[38;5;28;01mfor\u001b[39;00m epoch \u001b[38;5;129;01min\u001b[39;00m \u001b[38;5;28mrange\u001b[39m(N_EPOCHS):\n\u001b[1;32m--> 111\u001b[0m     train_loss, train_acc \u001b[38;5;241m=\u001b[39m \u001b[43mtrain\u001b[49m\u001b[43m(\u001b[49m\u001b[43mmodel\u001b[49m\u001b[43m,\u001b[49m\u001b[43m \u001b[49m\u001b[43mtrain_loader\u001b[49m\u001b[43m,\u001b[49m\u001b[43m \u001b[49m\u001b[43moptimizer\u001b[49m\u001b[43m,\u001b[49m\u001b[43m \u001b[49m\u001b[43mcriterion\u001b[49m\u001b[43m,\u001b[49m\u001b[43m \u001b[49m\u001b[43mdevice\u001b[49m\u001b[43m)\u001b[49m\n\u001b[0;32m    112\u001b[0m     valid_loss, valid_acc \u001b[38;5;241m=\u001b[39m evaluate(model, test_loader, criterion, device)\n\u001b[0;32m    114\u001b[0m     train_losses\u001b[38;5;241m.\u001b[39mappend(train_loss)\n",
      "Cell \u001b[1;32mIn[10], line 39\u001b[0m, in \u001b[0;36mtrain\u001b[1;34m(model, iterator, optimizer, criterion, device)\u001b[0m\n\u001b[0;32m     36\u001b[0m text, text_lengths, label \u001b[38;5;241m=\u001b[39m text\u001b[38;5;241m.\u001b[39mto(device), text_lengths\u001b[38;5;241m.\u001b[39mto(device), label\u001b[38;5;241m.\u001b[39mto(device)\n\u001b[0;32m     38\u001b[0m optimizer\u001b[38;5;241m.\u001b[39mzero_grad()\n\u001b[1;32m---> 39\u001b[0m predictions \u001b[38;5;241m=\u001b[39m \u001b[43mmodel\u001b[49m\u001b[43m(\u001b[49m\u001b[43mtext\u001b[49m\u001b[43m,\u001b[49m\u001b[43m \u001b[49m\u001b[43mtext_lengths\u001b[49m\u001b[43m)\u001b[49m\u001b[38;5;241m.\u001b[39msqueeze(\u001b[38;5;241m1\u001b[39m)\n\u001b[0;32m     40\u001b[0m loss \u001b[38;5;241m=\u001b[39m criterion(predictions, label)\n\u001b[0;32m     41\u001b[0m acc \u001b[38;5;241m=\u001b[39m calculate_accuracy(predictions, label)\n",
      "File \u001b[1;32m~\\AppData\\Roaming\\Python\\Python310\\site-packages\\torch\\nn\\modules\\module.py:1511\u001b[0m, in \u001b[0;36mModule._wrapped_call_impl\u001b[1;34m(self, *args, **kwargs)\u001b[0m\n\u001b[0;32m   1509\u001b[0m     \u001b[38;5;28;01mreturn\u001b[39;00m \u001b[38;5;28mself\u001b[39m\u001b[38;5;241m.\u001b[39m_compiled_call_impl(\u001b[38;5;241m*\u001b[39margs, \u001b[38;5;241m*\u001b[39m\u001b[38;5;241m*\u001b[39mkwargs)  \u001b[38;5;66;03m# type: ignore[misc]\u001b[39;00m\n\u001b[0;32m   1510\u001b[0m \u001b[38;5;28;01melse\u001b[39;00m:\n\u001b[1;32m-> 1511\u001b[0m     \u001b[38;5;28;01mreturn\u001b[39;00m \u001b[38;5;28mself\u001b[39m\u001b[38;5;241m.\u001b[39m_call_impl(\u001b[38;5;241m*\u001b[39margs, \u001b[38;5;241m*\u001b[39m\u001b[38;5;241m*\u001b[39mkwargs)\n",
      "File \u001b[1;32m~\\AppData\\Roaming\\Python\\Python310\\site-packages\\torch\\nn\\modules\\module.py:1520\u001b[0m, in \u001b[0;36mModule._call_impl\u001b[1;34m(self, *args, **kwargs)\u001b[0m\n\u001b[0;32m   1515\u001b[0m \u001b[38;5;66;03m# If we don't have any hooks, we want to skip the rest of the logic in\u001b[39;00m\n\u001b[0;32m   1516\u001b[0m \u001b[38;5;66;03m# this function, and just call forward.\u001b[39;00m\n\u001b[0;32m   1517\u001b[0m \u001b[38;5;28;01mif\u001b[39;00m \u001b[38;5;129;01mnot\u001b[39;00m (\u001b[38;5;28mself\u001b[39m\u001b[38;5;241m.\u001b[39m_backward_hooks \u001b[38;5;129;01mor\u001b[39;00m \u001b[38;5;28mself\u001b[39m\u001b[38;5;241m.\u001b[39m_backward_pre_hooks \u001b[38;5;129;01mor\u001b[39;00m \u001b[38;5;28mself\u001b[39m\u001b[38;5;241m.\u001b[39m_forward_hooks \u001b[38;5;129;01mor\u001b[39;00m \u001b[38;5;28mself\u001b[39m\u001b[38;5;241m.\u001b[39m_forward_pre_hooks\n\u001b[0;32m   1518\u001b[0m         \u001b[38;5;129;01mor\u001b[39;00m _global_backward_pre_hooks \u001b[38;5;129;01mor\u001b[39;00m _global_backward_hooks\n\u001b[0;32m   1519\u001b[0m         \u001b[38;5;129;01mor\u001b[39;00m _global_forward_hooks \u001b[38;5;129;01mor\u001b[39;00m _global_forward_pre_hooks):\n\u001b[1;32m-> 1520\u001b[0m     \u001b[38;5;28;01mreturn\u001b[39;00m forward_call(\u001b[38;5;241m*\u001b[39margs, \u001b[38;5;241m*\u001b[39m\u001b[38;5;241m*\u001b[39mkwargs)\n\u001b[0;32m   1522\u001b[0m \u001b[38;5;28;01mtry\u001b[39;00m:\n\u001b[0;32m   1523\u001b[0m     result \u001b[38;5;241m=\u001b[39m \u001b[38;5;28;01mNone\u001b[39;00m\n",
      "Cell \u001b[1;32mIn[10], line 19\u001b[0m, in \u001b[0;36mBiLSTMModel.forward\u001b[1;34m(self, text, text_lengths)\u001b[0m\n\u001b[0;32m     17\u001b[0m embedded \u001b[38;5;241m=\u001b[39m \u001b[38;5;28mself\u001b[39m\u001b[38;5;241m.\u001b[39mdropout(\u001b[38;5;28mself\u001b[39m\u001b[38;5;241m.\u001b[39membedding(text))\n\u001b[0;32m     18\u001b[0m packed_embedded \u001b[38;5;241m=\u001b[39m nn\u001b[38;5;241m.\u001b[39mutils\u001b[38;5;241m.\u001b[39mrnn\u001b[38;5;241m.\u001b[39mpack_padded_sequence(embedded, text_lengths\u001b[38;5;241m.\u001b[39mcpu())\n\u001b[1;32m---> 19\u001b[0m packed_output, (hidden, cell) \u001b[38;5;241m=\u001b[39m \u001b[38;5;28;43mself\u001b[39;49m\u001b[38;5;241;43m.\u001b[39;49m\u001b[43mbilstm\u001b[49m\u001b[43m(\u001b[49m\u001b[43mpacked_embedded\u001b[49m\u001b[43m)\u001b[49m\n\u001b[0;32m     20\u001b[0m output, output_lengths \u001b[38;5;241m=\u001b[39m nn\u001b[38;5;241m.\u001b[39mutils\u001b[38;5;241m.\u001b[39mrnn\u001b[38;5;241m.\u001b[39mpad_packed_sequence(packed_output)\n\u001b[0;32m     21\u001b[0m hidden \u001b[38;5;241m=\u001b[39m \u001b[38;5;28mself\u001b[39m\u001b[38;5;241m.\u001b[39mdropout(torch\u001b[38;5;241m.\u001b[39mcat((hidden[\u001b[38;5;241m-\u001b[39m\u001b[38;5;241m2\u001b[39m,:,:], hidden[\u001b[38;5;241m-\u001b[39m\u001b[38;5;241m1\u001b[39m,:,:]), dim\u001b[38;5;241m=\u001b[39m\u001b[38;5;241m1\u001b[39m))\n",
      "File \u001b[1;32m~\\AppData\\Roaming\\Python\\Python310\\site-packages\\torch\\nn\\modules\\module.py:1511\u001b[0m, in \u001b[0;36mModule._wrapped_call_impl\u001b[1;34m(self, *args, **kwargs)\u001b[0m\n\u001b[0;32m   1509\u001b[0m     \u001b[38;5;28;01mreturn\u001b[39;00m \u001b[38;5;28mself\u001b[39m\u001b[38;5;241m.\u001b[39m_compiled_call_impl(\u001b[38;5;241m*\u001b[39margs, \u001b[38;5;241m*\u001b[39m\u001b[38;5;241m*\u001b[39mkwargs)  \u001b[38;5;66;03m# type: ignore[misc]\u001b[39;00m\n\u001b[0;32m   1510\u001b[0m \u001b[38;5;28;01melse\u001b[39;00m:\n\u001b[1;32m-> 1511\u001b[0m     \u001b[38;5;28;01mreturn\u001b[39;00m \u001b[38;5;28mself\u001b[39m\u001b[38;5;241m.\u001b[39m_call_impl(\u001b[38;5;241m*\u001b[39margs, \u001b[38;5;241m*\u001b[39m\u001b[38;5;241m*\u001b[39mkwargs)\n",
      "File \u001b[1;32m~\\AppData\\Roaming\\Python\\Python310\\site-packages\\torch\\nn\\modules\\module.py:1520\u001b[0m, in \u001b[0;36mModule._call_impl\u001b[1;34m(self, *args, **kwargs)\u001b[0m\n\u001b[0;32m   1515\u001b[0m \u001b[38;5;66;03m# If we don't have any hooks, we want to skip the rest of the logic in\u001b[39;00m\n\u001b[0;32m   1516\u001b[0m \u001b[38;5;66;03m# this function, and just call forward.\u001b[39;00m\n\u001b[0;32m   1517\u001b[0m \u001b[38;5;28;01mif\u001b[39;00m \u001b[38;5;129;01mnot\u001b[39;00m (\u001b[38;5;28mself\u001b[39m\u001b[38;5;241m.\u001b[39m_backward_hooks \u001b[38;5;129;01mor\u001b[39;00m \u001b[38;5;28mself\u001b[39m\u001b[38;5;241m.\u001b[39m_backward_pre_hooks \u001b[38;5;129;01mor\u001b[39;00m \u001b[38;5;28mself\u001b[39m\u001b[38;5;241m.\u001b[39m_forward_hooks \u001b[38;5;129;01mor\u001b[39;00m \u001b[38;5;28mself\u001b[39m\u001b[38;5;241m.\u001b[39m_forward_pre_hooks\n\u001b[0;32m   1518\u001b[0m         \u001b[38;5;129;01mor\u001b[39;00m _global_backward_pre_hooks \u001b[38;5;129;01mor\u001b[39;00m _global_backward_hooks\n\u001b[0;32m   1519\u001b[0m         \u001b[38;5;129;01mor\u001b[39;00m _global_forward_hooks \u001b[38;5;129;01mor\u001b[39;00m _global_forward_pre_hooks):\n\u001b[1;32m-> 1520\u001b[0m     \u001b[38;5;28;01mreturn\u001b[39;00m forward_call(\u001b[38;5;241m*\u001b[39margs, \u001b[38;5;241m*\u001b[39m\u001b[38;5;241m*\u001b[39mkwargs)\n\u001b[0;32m   1522\u001b[0m \u001b[38;5;28;01mtry\u001b[39;00m:\n\u001b[0;32m   1523\u001b[0m     result \u001b[38;5;241m=\u001b[39m \u001b[38;5;28;01mNone\u001b[39;00m\n",
      "File \u001b[1;32m~\\AppData\\Roaming\\Python\\Python310\\site-packages\\torch\\nn\\modules\\rnn.py:881\u001b[0m, in \u001b[0;36mLSTM.forward\u001b[1;34m(self, input, hx)\u001b[0m\n\u001b[0;32m    878\u001b[0m     result \u001b[38;5;241m=\u001b[39m _VF\u001b[38;5;241m.\u001b[39mlstm(\u001b[38;5;28minput\u001b[39m, hx, \u001b[38;5;28mself\u001b[39m\u001b[38;5;241m.\u001b[39m_flat_weights, \u001b[38;5;28mself\u001b[39m\u001b[38;5;241m.\u001b[39mbias, \u001b[38;5;28mself\u001b[39m\u001b[38;5;241m.\u001b[39mnum_layers,\n\u001b[0;32m    879\u001b[0m                       \u001b[38;5;28mself\u001b[39m\u001b[38;5;241m.\u001b[39mdropout, \u001b[38;5;28mself\u001b[39m\u001b[38;5;241m.\u001b[39mtraining, \u001b[38;5;28mself\u001b[39m\u001b[38;5;241m.\u001b[39mbidirectional, \u001b[38;5;28mself\u001b[39m\u001b[38;5;241m.\u001b[39mbatch_first)\n\u001b[0;32m    880\u001b[0m \u001b[38;5;28;01melse\u001b[39;00m:\n\u001b[1;32m--> 881\u001b[0m     result \u001b[38;5;241m=\u001b[39m \u001b[43m_VF\u001b[49m\u001b[38;5;241;43m.\u001b[39;49m\u001b[43mlstm\u001b[49m\u001b[43m(\u001b[49m\u001b[38;5;28;43minput\u001b[39;49m\u001b[43m,\u001b[49m\u001b[43m \u001b[49m\u001b[43mbatch_sizes\u001b[49m\u001b[43m,\u001b[49m\u001b[43m \u001b[49m\u001b[43mhx\u001b[49m\u001b[43m,\u001b[49m\u001b[43m \u001b[49m\u001b[38;5;28;43mself\u001b[39;49m\u001b[38;5;241;43m.\u001b[39;49m\u001b[43m_flat_weights\u001b[49m\u001b[43m,\u001b[49m\u001b[43m \u001b[49m\u001b[38;5;28;43mself\u001b[39;49m\u001b[38;5;241;43m.\u001b[39;49m\u001b[43mbias\u001b[49m\u001b[43m,\u001b[49m\n\u001b[0;32m    882\u001b[0m \u001b[43m                      \u001b[49m\u001b[38;5;28;43mself\u001b[39;49m\u001b[38;5;241;43m.\u001b[39;49m\u001b[43mnum_layers\u001b[49m\u001b[43m,\u001b[49m\u001b[43m \u001b[49m\u001b[38;5;28;43mself\u001b[39;49m\u001b[38;5;241;43m.\u001b[39;49m\u001b[43mdropout\u001b[49m\u001b[43m,\u001b[49m\u001b[43m \u001b[49m\u001b[38;5;28;43mself\u001b[39;49m\u001b[38;5;241;43m.\u001b[39;49m\u001b[43mtraining\u001b[49m\u001b[43m,\u001b[49m\u001b[43m \u001b[49m\u001b[38;5;28;43mself\u001b[39;49m\u001b[38;5;241;43m.\u001b[39;49m\u001b[43mbidirectional\u001b[49m\u001b[43m)\u001b[49m\n\u001b[0;32m    883\u001b[0m output \u001b[38;5;241m=\u001b[39m result[\u001b[38;5;241m0\u001b[39m]\n\u001b[0;32m    884\u001b[0m hidden \u001b[38;5;241m=\u001b[39m result[\u001b[38;5;241m1\u001b[39m:]\n",
      "\u001b[1;31mKeyboardInterrupt\u001b[0m: "
     ]
    }
   ],
   "source": [
    "import torch.optim as optim\n",
    "import torch.nn as nn\n",
    "import torch\n",
    "import matplotlib.pyplot as plt\n",
    "from torch.utils.data import DataLoader\n",
    "from collections import defaultdict\n",
    "\n",
    "class BiLSTMModel(nn.Module):\n",
    "    def __init__(self, vocab_size, embedding_dim, hidden_dim, output_dim, pad_idx):\n",
    "        super(BiLSTMModel, self).__init__()\n",
    "        self.embedding = nn.Embedding(vocab_size, embedding_dim, padding_idx=pad_idx)\n",
    "        self.bilstm = nn.LSTM(embedding_dim, hidden_dim, num_layers=2, bidirectional=True, dropout=0.5)\n",
    "        self.fc = nn.Linear(hidden_dim * 2, output_dim)\n",
    "        self.dropout = nn.Dropout(0.5)\n",
    "\n",
    "    def forward(self, text, text_lengths):\n",
    "        embedded = self.dropout(self.embedding(text))\n",
    "        packed_embedded = nn.utils.rnn.pack_padded_sequence(embedded, text_lengths.cpu())\n",
    "        packed_output, (hidden, cell) = self.bilstm(packed_embedded)\n",
    "        output, output_lengths = nn.utils.rnn.pad_packed_sequence(packed_output)\n",
    "        hidden = self.dropout(torch.cat((hidden[-2,:,:], hidden[-1,:,:]), dim=1))\n",
    "        return self.fc(hidden)\n",
    "\n",
    "def calculate_accuracy(preds, labels):\n",
    "    preds = preds.argmax(dim=1, keepdim=True)\n",
    "    correct = preds.eq(labels.view_as(preds)).sum().item()\n",
    "    return correct / labels.shape[0]\n",
    "def train(model, iterator, optimizer, criterion, device):\n",
    "    epoch_loss = 0\n",
    "    epoch_acc = 0\n",
    "    model.train()\n",
    "    \n",
    "    for batch in iterator:\n",
    "        text, text_lengths = batch[\"text\"]\n",
    "        label = batch[\"label\"]\n",
    "        text, text_lengths, label = text.to(device), text_lengths.to(device), label.to(device)\n",
    "\n",
    "        optimizer.zero_grad()\n",
    "        predictions = model(text, text_lengths).squeeze(1)\n",
    "        loss = criterion(predictions, label)\n",
    "        acc = calculate_accuracy(predictions, label)\n",
    "        \n",
    "        loss.backward()\n",
    "        optimizer.step()\n",
    "\n",
    "        epoch_loss += loss.item()\n",
    "        epoch_acc += acc\n",
    "\n",
    "    return epoch_loss / len(iterator), epoch_acc / len(iterator)\n",
    "def evaluate(model, iterator, criterion, device):\n",
    "    epoch_loss = 0\n",
    "    epoch_acc = 0\n",
    "    model.eval()\n",
    "\n",
    "    with torch.no_grad():\n",
    "        for batch in iterator:\n",
    "            text, text_lengths = batch[\"text\"]\n",
    "            label = batch[\"label\"]\n",
    "            text, text_lengths, label = text.to(device), text_lengths.to(device), label.to(device)\n",
    "\n",
    "            predictions = model(text, text_lengths).squeeze(1)\n",
    "            loss = criterion(predictions, label)\n",
    "            acc = calculate_accuracy(predictions, label)\n",
    "\n",
    "            epoch_loss += loss.item()\n",
    "            epoch_acc += acc\n",
    "\n",
    "    return epoch_loss / len(iterator), epoch_acc / len(iterator)\n",
    "OUTPUT_DIM = 6\n",
    "INPUT_DIM = len(vocab)\n",
    "EMBEDDING_DIM = 100\n",
    "HIDDEN_DIM = 256\n",
    "PAD_IDX = vocab[\"<pad>\"]\n",
    "\n",
    "model = BiLSTMModel(INPUT_DIM, EMBEDDING_DIM, HIDDEN_DIM, OUTPUT_DIM, PAD_IDX)\n",
    "optimizer = optim.Adam(model.parameters())\n",
    "criterion = nn.CrossEntropyLoss()\n",
    "device = torch.device('cuda' if torch.cuda.is_available() else 'cpu')\n",
    "model = model.to(device)\n",
    "criterion = criterion.to(device)\n",
    "def plot_graph(train_losses, val_losses, train_accuracies, val_accuracies):\n",
    "    plt.figure(figsize=(12, 5))\n",
    "    plt.subplot(1, 2, 1)\n",
    "    plt.plot(train_losses, label='Train')\n",
    "    plt.plot(val_losses, label='Validation')\n",
    "    plt.xlabel('Epoch')\n",
    "    plt.ylabel('Loss')\n",
    "    plt.title('Training and Validation Loss')\n",
    "    plt.legend()\n",
    "    \n",
    "    plt.subplot(1, 2, 2)\n",
    "    plt.plot(train_accuracies, label='Train')\n",
    "    plt.plot(val_accuracies, label='Validation')\n",
    "    plt.xlabel('Epoch')\n",
    "    plt.ylabel('Accuracy')\n",
    "    plt.title('Training and Validation Accuracy')\n",
    "    plt.legend()\n",
    "\n",
    "    plt.tight_layout()\n",
    "    plt.show()\n",
    "\n",
    "N_EPOCHS = 15\n",
    "best_valid_loss = float('inf')\n",
    "\n",
    "train_losses = []\n",
    "train_accuracies = []\n",
    "val_losses = []\n",
    "val_accuracies = []\n",
    "\n",
    "for epoch in range(N_EPOCHS):\n",
    "    train_loss, train_acc = train(model, train_loader, optimizer, criterion, device)\n",
    "    valid_loss, valid_acc = evaluate(model, test_loader, criterion, device)\n",
    "\n",
    "    train_losses.append(train_loss)\n",
    "    train_accuracies.append(train_acc)\n",
    "    val_losses.append(valid_loss)\n",
    "    val_accuracies.append(valid_acc)\n",
    "\n",
    "    if valid_loss < best_valid_loss:\n",
    "        best_valid_loss = valid_loss\n",
    "        torch.save(model.state_dict(), 'best_model.pt')\n",
    "\n",
    "    print(f'Epoch {epoch+1}/{N_EPOCHS}, Train Loss: {train_loss:.4f}, Train Acc: {train_acc:.4f}, Val Loss: {valid_loss:.4f}, Val Acc: {valid_acc:.4f}')\n",
    "\n",
    "plot_graph(train_losses, val_losses, train_accuracies, val_accuracies)\n"
   ]
  },
  {
   "cell_type": "markdown",
   "metadata": {},
   "source": [
    "- Evaluation Model"
   ]
  },
  {
   "cell_type": "code",
   "execution_count": null,
   "metadata": {},
   "outputs": [],
   "source": [
    "import matplotlib.pyplot as plt\n",
    "import numpy as np\n",
    "import itertools\n",
    "from sklearn.metrics import confusion_matrix, f1_score\n",
    "import torch\n",
    "\n",
    "def plot_confusion_matrix(cm, classes):\n",
    "    plt.figure(figsize=(8, 8))\n",
    "    plt.imshow(cm, interpolation='nearest', cmap=plt.cm.Blues)\n",
    "    plt.title('Confusion Matrix')\n",
    "    plt.colorbar()\n",
    "    tick_marks = np.arange(len(classes))\n",
    "    plt.xticks(tick_marks, classes, rotation=45)\n",
    "    plt.yticks(tick_marks, classes)\n",
    "\n",
    "    fmt = 'd'\n",
    "    thresh = cm.max() / 2.\n",
    "    for i, j in itertools.product(range(cm.shape[0]), range(cm.shape[1])):\n",
    "        plt.text(j, i, format(cm[i, j], fmt),\n",
    "                 horizontalalignment=\"center\",\n",
    "                 color=\"white\" if cm[i, j] > thresh else \"black\")\n",
    "\n",
    "    plt.ylabel('True label')\n",
    "    plt.xlabel('Predicted label')\n",
    "    plt.tight_layout()\n",
    "\n",
    "def calculate_accuracy(predictions, labels):\n",
    "    max_preds = predictions.argmax(dim=1, keepdim=True)  # get the index of the max probability\n",
    "    correct = max_preds.squeeze(1).eq(labels)\n",
    "    return correct.sum() / torch.FloatTensor([labels.shape[0]])\n",
    "\n",
    "def evaluate(model, iterator, criterion, device):\n",
    "    epoch_loss = 0\n",
    "    epoch_acc = 0\n",
    "    all_predictions = []\n",
    "    all_labels = []\n",
    "    model.eval()\n",
    "\n",
    "    with torch.no_grad():\n",
    "        for batch in iterator:\n",
    "            text, text_lengths = batch[\"text\"]\n",
    "            label = batch[\"label\"]\n",
    "            text, text_lengths, label = text.to(device), text_lengths.to(device), label.to(device)\n",
    "\n",
    "            predictions = model(text, text_lengths).squeeze(1)\n",
    "            loss = criterion(predictions, label)\n",
    "            acc = calculate_accuracy(predictions, label)\n",
    "\n",
    "            epoch_loss += loss.item()\n",
    "            epoch_acc += acc.item()\n",
    "\n",
    "            # Convert predictions and labels to numpy arrays\n",
    "            preds_np = predictions.argmax(dim=1).detach().cpu().numpy()\n",
    "            labels_np = label.detach().cpu().numpy()\n",
    "\n",
    "            all_predictions.extend(preds_np)\n",
    "            all_labels.extend(labels_np)\n",
    "\n",
    "    # Calculate confusion matrix\n",
    "    cm = confusion_matrix(all_labels, all_predictions)\n",
    "    # Calculate F1 score\n",
    "    f1 = f1_score(all_labels, all_predictions, average='weighted')\n",
    "\n",
    "    return epoch_loss / len(iterator), epoch_acc / len(iterator), cm, f1\n",
    "\n",
    "# Evaluate model and plot confusion matrix\n",
    "test_loss, test_acc, cm, f1 = evaluate(model, test_loader, criterion, device)\n",
    "print(f'Test Loss: {test_loss:.3f} | Test Acc: {test_acc*100:.2f}% | F1 Score: {f1:.3f}')\n",
    "\n",
    "# Define class names (if available)\n",
    "class_names = [str(i) for i in range(OUTPUT_DIM)]  # Replace with actual class names if available\n",
    "\n",
    "# Plot confusion matrix\n",
    "plot_confusion_matrix(cm, classes=class_names)\n",
    "plt.show()\n"
   ]
  },
  {
   "cell_type": "markdown",
   "metadata": {},
   "source": [
    "3. PhoBERT\n",
    "We train PhoBERT at : https://www.kaggle.com/code/quocnv/notebookff4ee20e39"
   ]
  }
 ],
 "metadata": {
  "kernelspec": {
   "display_name": "Python 3",
   "language": "python",
   "name": "python3"
  },
  "language_info": {
   "codemirror_mode": {
    "name": "ipython",
    "version": 3
   },
   "file_extension": ".py",
   "mimetype": "text/x-python",
   "name": "python",
   "nbconvert_exporter": "python",
   "pygments_lexer": "ipython3",
   "version": "3.10.5"
  }
 },
 "nbformat": 4,
 "nbformat_minor": 2
}
